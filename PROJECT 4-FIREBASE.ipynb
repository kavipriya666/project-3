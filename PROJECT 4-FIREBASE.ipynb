{
 "cells": [
  {
   "cell_type": "code",
   "execution_count": 1,
   "metadata": {},
   "outputs": [],
   "source": [
    "import firebase_admin\n",
    "from firebase_admin import credentials\n",
    "from firebase_admin import firestore\n"
   ]
  },
  {
   "cell_type": "code",
   "execution_count": 2,
   "metadata": {},
   "outputs": [
    {
     "data": {
      "text/plain": [
       "<firebase_admin.App at 0x1b7d16d0ec8>"
      ]
     },
     "execution_count": 2,
     "metadata": {},
     "output_type": "execute_result"
    }
   ],
   "source": [
    "cred = credentials.Certificate(\"python666-c16bb-firebase-adminsdk-ap6e5-9d304d785d.json\")\n",
    "firebase_admin.initialize_app(cred)"
   ]
  },
  {
   "cell_type": "code",
   "execution_count": 3,
   "metadata": {},
   "outputs": [],
   "source": [
    "\n",
    "db=firestore.client()"
   ]
  },
  {
   "cell_type": "code",
   "execution_count": 4,
   "metadata": {},
   "outputs": [],
   "source": [
    "doc_ref = db.collection(u'firebase').document(u'Data')"
   ]
  },
  {
   "cell_type": "code",
   "execution_count": 5,
   "metadata": {},
   "outputs": [],
   "source": [
    "def enterdatainDB():\n",
    "    doc_ref = db.collection(u'firebase').document()\n",
    "    name=input(\"Enter Name-\")\n",
    "    lastname=input(\"Enter lastName-\")\n",
    "    age=int(input(\"Enter age-\"))\n",
    "    dit={}\n",
    "    dit[\"firstname\"]=name\n",
    "    dit[\"lastname\"]=lastname\n",
    "    dit[\"age\"]=age\n",
    "    doc_ref.set(dit)"
   ]
  },
  {
   "cell_type": "code",
   "execution_count": 6,
   "metadata": {},
   "outputs": [
    {
     "name": "stdout",
     "output_type": "stream",
     "text": [
      "Enter Name-Ramya\n",
      "Enter lastName-Ranganathan\n",
      "Enter age-25\n"
     ]
    }
   ],
   "source": [
    "enterdatainDB()"
   ]
  },
  {
   "cell_type": "code",
   "execution_count": 7,
   "metadata": {},
   "outputs": [
    {
     "name": "stdout",
     "output_type": "stream",
     "text": [
      "Enter Name-Kavipriya\n",
      "Enter lastName-Ranganathan\n",
      "Enter age-23\n"
     ]
    }
   ],
   "source": [
    "enterdatainDB()\n"
   ]
  },
  {
   "cell_type": "code",
   "execution_count": 8,
   "metadata": {},
   "outputs": [
    {
     "name": "stdout",
     "output_type": "stream",
     "text": [
      "Enter Name-Hariharan\n",
      "Enter lastName-Ranganathan\n",
      "Enter age-20\n"
     ]
    }
   ],
   "source": [
    "enterdatainDB()"
   ]
  },
  {
   "cell_type": "code",
   "execution_count": 9,
   "metadata": {},
   "outputs": [
    {
     "name": "stdout",
     "output_type": "stream",
     "text": [
      "M2xMt98I2T3d4lRs7hPI => {'firstname': 'Kavipriya', 'age': 23, 'lastname': 'Ranganathan'}\n",
      "ID-  M2xMt98I2T3d4lRs7hPI\n",
      "FirstName-  Kavipriya\n",
      "LastName-  Ranganathan\n",
      "Age-  23\n",
      "-----------------------\n",
      "sdQpSyrPsOAYt1WMcNNL => {'firstname': 'Hariharan', 'lastname': 'Ranganathan', 'age': 20}\n",
      "ID-  sdQpSyrPsOAYt1WMcNNL\n",
      "FirstName-  Hariharan\n",
      "LastName-  Ranganathan\n",
      "Age-  20\n",
      "-----------------------\n",
      "vTl5xlI98Um2Tiv0osdx => {'age': 25, 'firstname': 'Ramya', 'lastname': 'Ranganathan'}\n",
      "ID-  vTl5xlI98Um2Tiv0osdx\n",
      "FirstName-  Ramya\n",
      "LastName-  Ranganathan\n",
      "Age-  25\n",
      "-----------------------\n"
     ]
    }
   ],
   "source": [
    "docs = db.collection(u'firebase').stream()\n",
    "for doc in docs:\n",
    "    print(f'{doc.id} => {doc.to_dict()}')\n",
    "    print(\"ID- \",doc.id)\n",
    "    print(\"FirstName- \",doc.to_dict().get(\"firstname\"))\n",
    "    print(\"LastName- \",doc.to_dict().get(\"lastname\"))\n",
    "    print(\"Age- \",doc.to_dict().get(\"age\"))\n",
    "    print(\"-----------------------\")"
   ]
  },
  {
   "cell_type": "code",
   "execution_count": 10,
   "metadata": {},
   "outputs": [],
   "source": [
    "def updatedatainfirebase(uid,updatedage):\n",
    "    doc_ref = db.collection(u'firebase').document(uid)\n",
    "    doc_ref.update({\"age\":updatedage})\n",
    "    "
   ]
  },
  {
   "cell_type": "code",
   "execution_count": 11,
   "metadata": {},
   "outputs": [],
   "source": [
    "updatedatainfirebase(\"M2xMt98I2T3d4lRs7hPI\",24)"
   ]
  },
  {
   "cell_type": "code",
   "execution_count": null,
   "metadata": {},
   "outputs": [],
   "source": []
  }
 ],
 "metadata": {
  "kernelspec": {
   "display_name": "Python 3",
   "language": "python",
   "name": "python3"
  },
  "language_info": {
   "codemirror_mode": {
    "name": "ipython",
    "version": 3
   },
   "file_extension": ".py",
   "mimetype": "text/x-python",
   "name": "python",
   "nbconvert_exporter": "python",
   "pygments_lexer": "ipython3",
   "version": "3.7.4"
  }
 },
 "nbformat": 4,
 "nbformat_minor": 2
}
